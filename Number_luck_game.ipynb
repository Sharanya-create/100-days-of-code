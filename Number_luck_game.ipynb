{
  "nbformat": 4,
  "nbformat_minor": 0,
  "metadata": {
    "colab": {
      "name": "Number luck game.ipynb",
      "provenance": [],
      "collapsed_sections": [],
      "authorship_tag": "ABX9TyOQ3pknlvlRhlC1Snz4CtHQ",
      "include_colab_link": true
    },
    "kernelspec": {
      "name": "python3",
      "display_name": "Python 3"
    }
  },
  "cells": [
    {
      "cell_type": "markdown",
      "metadata": {
        "id": "view-in-github",
        "colab_type": "text"
      },
      "source": [
        "<a href=\"https://colab.research.google.com/github/Sharanya-create/100-days-of-code/blob/master/Number_luck_game.ipynb\" target=\"_parent\"><img src=\"https://colab.research.google.com/assets/colab-badge.svg\" alt=\"Open In Colab\"/></a>"
      ]
    },
    {
      "cell_type": "code",
      "metadata": {
        "id": "2FnRTyuOcdAN",
        "colab_type": "code",
        "colab": {
          "base_uri": "https://localhost:8080/",
          "height": 453
        },
        "outputId": "70c56530-8cb0-428f-bce1-f76d715b4765"
      },
      "source": [
        "\n",
        "import random as r\n",
        "me=0;\n",
        "oponent=0;\n",
        "count=-1\n",
        "print(\"***NUMBER LUCK GAME***\")\n",
        "print(\"Select a number between 10 to 100 the one with greater number gets 1 point. There are 10 rounds lets see who wins at last!!\")\n",
        "print(\"Luck matters a lot!! Your oponent is computer and is highly random!!\")\n",
        "while True:\n",
        "  count=count+1\n",
        "  if(count==10):break;\n",
        "  inpt=int(input(''))\n",
        "\n",
        "  n=r.randint(10,100)\n",
        "  print(\"oponent:\",n)\n",
        "  if inpt>n:\n",
        "    me=me+1\n",
        "  elif n>inpt:\n",
        "    oponent=oponent+1\n",
        "  else:\n",
        "    oponent=oponent+1\n",
        "    me=me+1\n",
        "if oponent>me:\n",
        "  print(\"You Lose!!,oponent:\",oponent,\"you:\",me)\n",
        "else:\n",
        "  print(\"You Won!!,oponent:\",oponent,\"you:\",me)\n",
        "\n",
        "\n"
      ],
      "execution_count": 8,
      "outputs": [
        {
          "output_type": "stream",
          "text": [
            "***NUMBER LUCK GAME***\n",
            "Select a number between 10 to 100 the one with greater number gets 1 point. There are 10 rounds lets see who wins at last!!\n",
            "Luck matters a lot!! Your oponent is computer and is highly random!!\n",
            "30\n",
            "oponent: 29\n",
            "80\n",
            "oponent: 70\n",
            "78\n",
            "oponent: 98\n",
            "99\n",
            "oponent: 15\n",
            "1\n",
            "oponent: 51\n",
            "66\n",
            "oponent: 48\n",
            "88\n",
            "oponent: 96\n",
            "76\n",
            "oponent: 76\n",
            "55\n",
            "oponent: 17\n",
            "20\n",
            "oponent: 37\n",
            "You Won!!,oponent: 5 you: 6\n"
          ],
          "name": "stdout"
        }
      ]
    }
  ]
}